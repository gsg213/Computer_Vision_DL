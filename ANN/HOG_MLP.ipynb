{
  "nbformat": 4,
  "nbformat_minor": 0,
  "metadata": {
    "colab": {
      "name": "HOG_MLP.ipynb",
      "provenance": [],
      "collapsed_sections": [],
      "toc_visible": true
    },
    "kernelspec": {
      "name": "python3",
      "display_name": "Python 3"
    }
  },
  "cells": [
    {
      "cell_type": "markdown",
      "metadata": {
        "id": "66-svl6udHc6"
      },
      "source": [
        "[![Open In Colab](https://colab.research.google.com/assets/colab-badge.svg)](https://colab.research.google.com/github/gsg213/Computer_Vision_DL/blob/master/intro_to_img_proc/HOG_MLP.ipynb)"
      ]
    },
    {
      "cell_type": "markdown",
      "metadata": {
        "id": "7FIrEe-mdUcp"
      },
      "source": [
        "# Training a MLP with HOG features"
      ]
    },
    {
      "cell_type": "code",
      "metadata": {
        "colab": {
          "base_uri": "https://localhost:8080/"
        },
        "id": "GwzdYgVP2sct",
        "outputId": "d89e6993-1002-4e5f-b727-c2c8d44861e5"
      },
      "source": [
        "!wget --no-check-certificate https://storage.googleapis.com/mledu-datasets/cats_and_dogs_filtered.zip -O /content/cats_and_dogs_filtered.zip\n"
      ],
      "execution_count": 1,
      "outputs": [
        {
          "output_type": "stream",
          "text": [
            "--2021-03-29 00:36:41--  https://storage.googleapis.com/mledu-datasets/cats_and_dogs_filtered.zip\n",
            "Resolving storage.googleapis.com (storage.googleapis.com)... 74.125.137.128, 142.250.101.128, 2607:f8b0:4023:c06::80, ...\n",
            "Connecting to storage.googleapis.com (storage.googleapis.com)|74.125.137.128|:443... connected.\n",
            "HTTP request sent, awaiting response... 200 OK\n",
            "Length: 68606236 (65M) [application/zip]\n",
            "Saving to: ‘/content/cats_and_dogs_filtered.zip’\n",
            "\n",
            "/content/cats_and_d 100%[===================>]  65.43M  90.9MB/s    in 0.7s    \n",
            "\n",
            "2021-03-29 00:36:42 (90.9 MB/s) - ‘/content/cats_and_dogs_filtered.zip’ saved [68606236/68606236]\n",
            "\n"
          ],
          "name": "stdout"
        }
      ]
    },
    {
      "cell_type": "code",
      "metadata": {
        "colab": {
          "base_uri": "https://localhost:8080/"
        },
        "id": "TcpvpTjE6YND",
        "outputId": "99c0d89b-5fa1-49a0-ed75-bed4c83971c8"
      },
      "source": [
        "!pip install rich"
      ],
      "execution_count": 2,
      "outputs": [
        {
          "output_type": "stream",
          "text": [
            "Collecting rich\n",
            "\u001b[?25l  Downloading https://files.pythonhosted.org/packages/5c/94/435b820f6be96a650a3d00025efb9955a6b4e1e6f070ca18c3c134289b76/rich-10.0.0-py3-none-any.whl (201kB)\n",
            "\u001b[K     |████████████████████████████████| 204kB 7.0MB/s \n",
            "\u001b[?25hCollecting colorama<0.5.0,>=0.4.0\n",
            "  Downloading https://files.pythonhosted.org/packages/44/98/5b86278fbbf250d239ae0ecb724f8572af1c91f4a11edf4d36a206189440/colorama-0.4.4-py2.py3-none-any.whl\n",
            "Collecting commonmark<0.10.0,>=0.9.0\n",
            "\u001b[?25l  Downloading https://files.pythonhosted.org/packages/b1/92/dfd892312d822f36c55366118b95d914e5f16de11044a27cf10a7d71bbbf/commonmark-0.9.1-py2.py3-none-any.whl (51kB)\n",
            "\u001b[K     |████████████████████████████████| 51kB 5.1MB/s \n",
            "\u001b[?25hRequirement already satisfied: typing-extensions<4.0.0,>=3.7.4 in /usr/local/lib/python3.7/dist-packages (from rich) (3.7.4.3)\n",
            "Requirement already satisfied: pygments<3.0.0,>=2.6.0 in /usr/local/lib/python3.7/dist-packages (from rich) (2.6.1)\n",
            "Installing collected packages: colorama, commonmark, rich\n",
            "Successfully installed colorama-0.4.4 commonmark-0.9.1 rich-10.0.0\n"
          ],
          "name": "stdout"
        }
      ]
    },
    {
      "cell_type": "code",
      "metadata": {
        "id": "yWJYL2ln6iV6"
      },
      "source": [
        "from rich import print"
      ],
      "execution_count": 3,
      "outputs": []
    },
    {
      "cell_type": "code",
      "metadata": {
        "id": "8KNuag263utw"
      },
      "source": [
        "# to unzip\n",
        "\n",
        "import os\n",
        "import zipfile\n",
        "comprimido = zipfile.ZipFile('cats_and_dogs_filtered.zip','r')\n",
        "comprimido.extractall()\n",
        "comprimido.close()"
      ],
      "execution_count": 4,
      "outputs": []
    },
    {
      "cell_type": "code",
      "metadata": {
        "colab": {
          "base_uri": "https://localhost:8080/",
          "height": 493
        },
        "id": "IPUHB0ss5Ehp",
        "outputId": "36ee6a97-6ec2-481c-bdbd-8afa0254b39e"
      },
      "source": [
        "dir_base = 'cats_and_dogs_filtered'\n",
        "\n",
        "dir_train_cat = os.path.join(dir_base,'train/cats')\n",
        "dir_train_dog = os.path.join(dir_base,'train/dogs')\n",
        "\n",
        "dir_val_cat = os.path.join(dir_base,'validation/cats')\n",
        "dir_val_dog = os.path.join(dir_base,'validation/dogs')\n",
        "\n",
        "#print first 10 names of data set\n",
        "print(\":cat:\")\n",
        "print(os.listdir(dir_train_cat)[:10])\n",
        "print(\":dog:\")\n",
        "print(os.listdir(dir_train_dog)[:10])\n",
        "\n",
        "print('Cat train:',len(os.listdir(dir_train_cat)))\n",
        "print('Cat val:',len(os.listdir(dir_val_cat)))"
      ],
      "execution_count": 5,
      "outputs": [
        {
          "output_type": "display_data",
          "data": {
            "text/html": [
              "<pre style=\"white-space:pre;overflow-x:auto;line-height:normal;font-family:Menlo,'DejaVu Sans Mono',consolas,'Courier New',monospace\">🐱\n",
              "</pre>\n"
            ],
            "text/plain": [
              "<rich.jupyter.JupyterRenderable at 0x7f83d0e5b750>"
            ]
          },
          "metadata": {
            "tags": []
          }
        },
        {
          "output_type": "display_data",
          "data": {
            "text/html": [
              "<pre style=\"white-space:pre;overflow-x:auto;line-height:normal;font-family:Menlo,'DejaVu Sans Mono',consolas,'Courier New',monospace\"><span style=\"font-weight: bold\">[</span>\n",
              "    <span style=\"color: #008000; text-decoration-color: #008000\">'cat.367.jpg'</span>,\n",
              "    <span style=\"color: #008000; text-decoration-color: #008000\">'cat.770.jpg'</span>,\n",
              "    <span style=\"color: #008000; text-decoration-color: #008000\">'cat.380.jpg'</span>,\n",
              "    <span style=\"color: #008000; text-decoration-color: #008000\">'cat.304.jpg'</span>,\n",
              "    <span style=\"color: #008000; text-decoration-color: #008000\">'cat.80.jpg'</span>,\n",
              "    <span style=\"color: #008000; text-decoration-color: #008000\">'cat.717.jpg'</span>,\n",
              "    <span style=\"color: #008000; text-decoration-color: #008000\">'cat.343.jpg'</span>,\n",
              "    <span style=\"color: #008000; text-decoration-color: #008000\">'cat.646.jpg'</span>,\n",
              "    <span style=\"color: #008000; text-decoration-color: #008000\">'cat.487.jpg'</span>,\n",
              "    <span style=\"color: #008000; text-decoration-color: #008000\">'cat.797.jpg'</span>\n",
              "<span style=\"font-weight: bold\">]</span>\n",
              "</pre>\n"
            ],
            "text/plain": [
              "<rich.jupyter.JupyterRenderable at 0x7f83d0e52110>"
            ]
          },
          "metadata": {
            "tags": []
          }
        },
        {
          "output_type": "display_data",
          "data": {
            "text/html": [
              "<pre style=\"white-space:pre;overflow-x:auto;line-height:normal;font-family:Menlo,'DejaVu Sans Mono',consolas,'Courier New',monospace\">🐶\n",
              "</pre>\n"
            ],
            "text/plain": [
              "<rich.jupyter.JupyterRenderable at 0x7f83f716b0d0>"
            ]
          },
          "metadata": {
            "tags": []
          }
        },
        {
          "output_type": "display_data",
          "data": {
            "text/html": [
              "<pre style=\"white-space:pre;overflow-x:auto;line-height:normal;font-family:Menlo,'DejaVu Sans Mono',consolas,'Courier New',monospace\"><span style=\"font-weight: bold\">[</span>\n",
              "    <span style=\"color: #008000; text-decoration-color: #008000\">'dog.560.jpg'</span>,\n",
              "    <span style=\"color: #008000; text-decoration-color: #008000\">'dog.820.jpg'</span>,\n",
              "    <span style=\"color: #008000; text-decoration-color: #008000\">'dog.559.jpg'</span>,\n",
              "    <span style=\"color: #008000; text-decoration-color: #008000\">'dog.848.jpg'</span>,\n",
              "    <span style=\"color: #008000; text-decoration-color: #008000\">'dog.673.jpg'</span>,\n",
              "    <span style=\"color: #008000; text-decoration-color: #008000\">'dog.270.jpg'</span>,\n",
              "    <span style=\"color: #008000; text-decoration-color: #008000\">'dog.510.jpg'</span>,\n",
              "    <span style=\"color: #008000; text-decoration-color: #008000\">'dog.875.jpg'</span>,\n",
              "    <span style=\"color: #008000; text-decoration-color: #008000\">'dog.534.jpg'</span>,\n",
              "    <span style=\"color: #008000; text-decoration-color: #008000\">'dog.281.jpg'</span>\n",
              "<span style=\"font-weight: bold\">]</span>\n",
              "</pre>\n"
            ],
            "text/plain": [
              "<rich.jupyter.JupyterRenderable at 0x7f83d0c44450>"
            ]
          },
          "metadata": {
            "tags": []
          }
        },
        {
          "output_type": "display_data",
          "data": {
            "text/html": [
              "<pre style=\"white-space:pre;overflow-x:auto;line-height:normal;font-family:Menlo,'DejaVu Sans Mono',consolas,'Courier New',monospace\">Cat train: <span style=\"color: #008080; text-decoration-color: #008080; font-weight: bold\">1000</span>\n",
              "</pre>\n"
            ],
            "text/plain": [
              "<rich.jupyter.JupyterRenderable at 0x7f83d0e49950>"
            ]
          },
          "metadata": {
            "tags": []
          }
        },
        {
          "output_type": "display_data",
          "data": {
            "text/html": [
              "<pre style=\"white-space:pre;overflow-x:auto;line-height:normal;font-family:Menlo,'DejaVu Sans Mono',consolas,'Courier New',monospace\">Cat val: <span style=\"color: #008080; text-decoration-color: #008080; font-weight: bold\">500</span>\n",
              "</pre>\n"
            ],
            "text/plain": [
              "<rich.jupyter.JupyterRenderable at 0x7f83d0e52390>"
            ]
          },
          "metadata": {
            "tags": []
          }
        }
      ]
    },
    {
      "cell_type": "code",
      "metadata": {
        "id": "OzPlUHUU74d2"
      },
      "source": [
        "from skimage.feature import hog\n",
        "from skimage.io import imread\n",
        "from skimage.transform  import resize\n",
        "from skimage.color import rgb2gray\n",
        "\n",
        "import numpy as np\n",
        "\n",
        "from matplotlib import pyplot as plt"
      ],
      "execution_count": 6,
      "outputs": []
    },
    {
      "cell_type": "code",
      "metadata": {
        "id": "OB2aKb4b8Dir"
      },
      "source": [
        "#preprocess function to obation hog descriptors\n",
        "def preprocess(file):\n",
        "  img = imread(file)\n",
        "  img_gray = rgb2gray(img)\n",
        "  img_res = resize(img_gray,(128,64))\n",
        "  fd1, hog_1 = hog(img_res, orientations = 9, pixels_per_cell = (16,16), cells_per_block = (4,4), visualize = True )\n",
        "\n",
        "  return fd1"
      ],
      "execution_count": 7,
      "outputs": []
    },
    {
      "cell_type": "code",
      "metadata": {
        "colab": {
          "base_uri": "https://localhost:8080/",
          "height": 34
        },
        "id": "m7hO_T3O-Ijs",
        "outputId": "743e3974-03d0-4b8a-cee0-510fe3312ad2"
      },
      "source": [
        "dir = dir_train_cat + '/cat.153.jpg'\n",
        "\n",
        "fd = preprocess(dir)\n",
        "\n",
        "print(fd.size)"
      ],
      "execution_count": 8,
      "outputs": [
        {
          "output_type": "display_data",
          "data": {
            "text/html": [
              "<pre style=\"white-space:pre;overflow-x:auto;line-height:normal;font-family:Menlo,'DejaVu Sans Mono',consolas,'Courier New',monospace\"><span style=\"color: #008080; text-decoration-color: #008080; font-weight: bold\">720</span>\n",
              "</pre>\n"
            ],
            "text/plain": [
              "<rich.jupyter.JupyterRenderable at 0x7f83b9149d10>"
            ]
          },
          "metadata": {
            "tags": []
          }
        }
      ]
    },
    {
      "cell_type": "code",
      "metadata": {
        "id": "g7sok4HfDUCe"
      },
      "source": [
        "def processAll(folder, label):\n",
        "  hog_features = []\n",
        "  labels = []\n",
        "\n",
        "  for file in os.listdir(folder):\n",
        "    nfile = folder + '/' + file\n",
        "\n",
        "    his = preprocess(nfile)\n",
        "\n",
        "    hog_features.append(his)\n",
        "    labels.append(label)\n",
        "  \n",
        "  return hog_features, labels"
      ],
      "execution_count": 9,
      "outputs": []
    },
    {
      "cell_type": "code",
      "metadata": {
        "id": "90uMwiR-CV5K"
      },
      "source": [
        "folder_tra_cat = dir_train_cat\n",
        "label_cat = 1\n",
        "\n",
        "hog_tra_cat, label_tra_cat = processAll(folder_tra_cat,label_cat)\n",
        "\n",
        "folder_tra_dog = dir_train_dog\n",
        "label_dog = 0\n",
        "\n",
        "hog_tra_dog, label_tra_dog = processAll(folder_tra_dog,label_dog)\n"
      ],
      "execution_count": 10,
      "outputs": []
    },
    {
      "cell_type": "code",
      "metadata": {
        "colab": {
          "base_uri": "https://localhost:8080/",
          "height": 85
        },
        "id": "ZT4Hv9RiDZNg",
        "outputId": "3fc112d5-1e5d-4134-9dd6-848cedf21604"
      },
      "source": [
        "hog_all = hog_tra_cat + hog_tra_dog\n",
        "\n",
        "labels_all = label_tra_cat + label_tra_dog\n",
        "\n",
        "\n",
        "hog_all = np.array(hog_all)\n",
        "labels_all = np.array(labels_all)\n",
        "\n",
        "print('hog: ', hog_all.shape)\n",
        "print('labels: ',labels_all.shape)"
      ],
      "execution_count": 11,
      "outputs": [
        {
          "output_type": "display_data",
          "data": {
            "text/html": [
              "<pre style=\"white-space:pre;overflow-x:auto;line-height:normal;font-family:Menlo,'DejaVu Sans Mono',consolas,'Courier New',monospace\">hog: \n",
              "<span style=\"font-weight: bold\">(</span><span style=\"color: #008080; text-decoration-color: #008080; font-weight: bold\">2000</span>, <span style=\"color: #008080; text-decoration-color: #008080; font-weight: bold\">720</span><span style=\"font-weight: bold\">)</span>\n",
              "</pre>\n"
            ],
            "text/plain": [
              "<rich.jupyter.JupyterRenderable at 0x7f83b9155c10>"
            ]
          },
          "metadata": {
            "tags": []
          }
        },
        {
          "output_type": "display_data",
          "data": {
            "text/html": [
              "<pre style=\"white-space:pre;overflow-x:auto;line-height:normal;font-family:Menlo,'DejaVu Sans Mono',consolas,'Courier New',monospace\">labels: \n",
              "<span style=\"font-weight: bold\">(</span><span style=\"color: #008080; text-decoration-color: #008080; font-weight: bold\">2000</span>,<span style=\"font-weight: bold\">)</span>\n",
              "</pre>\n"
            ],
            "text/plain": [
              "<rich.jupyter.JupyterRenderable at 0x7f83b9175bd0>"
            ]
          },
          "metadata": {
            "tags": []
          }
        }
      ]
    },
    {
      "cell_type": "code",
      "metadata": {
        "colab": {
          "base_uri": "https://localhost:8080/",
          "height": 34
        },
        "id": "oJFxBKiQGq_b",
        "outputId": "e12e739f-bd34-42a8-da46-1900310a63e1"
      },
      "source": [
        "labels_all = labels_all.reshape(len(labels_all),1)\n",
        "\n",
        "dataset = np.hstack((hog_all,labels_all))\n",
        "print(dataset.shape)\n",
        "\n",
        "np.random.shuffle(dataset)"
      ],
      "execution_count": 12,
      "outputs": [
        {
          "output_type": "display_data",
          "data": {
            "text/html": [
              "<pre style=\"white-space:pre;overflow-x:auto;line-height:normal;font-family:Menlo,'DejaVu Sans Mono',consolas,'Courier New',monospace\"><span style=\"font-weight: bold\">(</span><span style=\"color: #008080; text-decoration-color: #008080; font-weight: bold\">2000</span>, <span style=\"color: #008080; text-decoration-color: #008080; font-weight: bold\">721</span><span style=\"font-weight: bold\">)</span>\n",
              "</pre>\n"
            ],
            "text/plain": [
              "<rich.jupyter.JupyterRenderable at 0x7f83b925e410>"
            ]
          },
          "metadata": {
            "tags": []
          }
        }
      ]
    },
    {
      "cell_type": "code",
      "metadata": {
        "colab": {
          "base_uri": "https://localhost:8080/",
          "height": 85
        },
        "id": "bmu1tZo0HlSb",
        "outputId": "51d7eef0-5b4a-4f4a-8bb1-f831b1aba0af"
      },
      "source": [
        "per = 80\n",
        "dataset_per = int(len(hog_all)*per/100)\n",
        "\n",
        "# :-1 all but last one\n",
        "xtrain = dataset[:dataset_per,:-1]\n",
        "xtest = dataset[dataset_per:,:-1]\n",
        "\n",
        "ytrain = dataset[:dataset_per,-1:].ravel()\n",
        "ytest = dataset[dataset_per:,-1:].ravel()\n",
        "\n",
        "print('xtrain: ',xtrain.shape)\n",
        "print('xtest: ',xtest.shape)"
      ],
      "execution_count": 13,
      "outputs": [
        {
          "output_type": "display_data",
          "data": {
            "text/html": [
              "<pre style=\"white-space:pre;overflow-x:auto;line-height:normal;font-family:Menlo,'DejaVu Sans Mono',consolas,'Courier New',monospace\">xtrain: \n",
              "<span style=\"font-weight: bold\">(</span><span style=\"color: #008080; text-decoration-color: #008080; font-weight: bold\">1600</span>, <span style=\"color: #008080; text-decoration-color: #008080; font-weight: bold\">720</span><span style=\"font-weight: bold\">)</span>\n",
              "</pre>\n"
            ],
            "text/plain": [
              "<rich.jupyter.JupyterRenderable at 0x7f83b915ccd0>"
            ]
          },
          "metadata": {
            "tags": []
          }
        },
        {
          "output_type": "display_data",
          "data": {
            "text/html": [
              "<pre style=\"white-space:pre;overflow-x:auto;line-height:normal;font-family:Menlo,'DejaVu Sans Mono',consolas,'Courier New',monospace\">xtest: \n",
              "<span style=\"font-weight: bold\">(</span><span style=\"color: #008080; text-decoration-color: #008080; font-weight: bold\">400</span>, <span style=\"color: #008080; text-decoration-color: #008080; font-weight: bold\">720</span><span style=\"font-weight: bold\">)</span>\n",
              "</pre>\n"
            ],
            "text/plain": [
              "<rich.jupyter.JupyterRenderable at 0x7f83b1109390>"
            ]
          },
          "metadata": {
            "tags": []
          }
        }
      ]
    },
    {
      "cell_type": "code",
      "metadata": {
        "id": "bU5juQrAbqwT"
      },
      "source": [
        "from sklearn.model_selection import train_test_split\n",
        "\n",
        "xtrain, xtest, ytrain, ytest = train_test_split(hog_all, labels_all,test_size= 0.2)"
      ],
      "execution_count": 14,
      "outputs": []
    },
    {
      "cell_type": "markdown",
      "metadata": {
        "id": "cCI0pdXoZmJR"
      },
      "source": [
        "Creating the MLP to classify between cats and dogs using HOG features"
      ]
    },
    {
      "cell_type": "code",
      "metadata": {
        "colab": {
          "base_uri": "https://localhost:8080/",
          "height": 89
        },
        "id": "HNiDM5avJgB0",
        "outputId": "a63ac793-ef5c-46ee-c6c4-46792ff07b78"
      },
      "source": [
        "from sklearn.neural_network import MLPClassifier\n",
        "from sklearn.metrics import plot_confusion_matrix\n",
        "\n",
        "mlp = MLPClassifier(hidden_layer_sizes=(256,128,64,32),activation='relu',solver='adam',random_state=1).fit(xtrain,ytrain)\n",
        "\n",
        "\n",
        "y_pred = mlp.predict(xtest)\n",
        "\n",
        "print('score: ',mlp.score(xtest,ytest))\n"
      ],
      "execution_count": 15,
      "outputs": [
        {
          "output_type": "stream",
          "text": [
            "/usr/local/lib/python3.7/dist-packages/sklearn/neural_network/_multilayer_perceptron.py:934: DataConversionWarning: A column-vector y was passed when a 1d array was expected. Please change the shape of y to (n_samples, ), for example using ravel().\n",
            "  y = column_or_1d(y, warn=True)\n"
          ],
          "name": "stderr"
        },
        {
          "output_type": "display_data",
          "data": {
            "text/html": [
              "<pre style=\"white-space:pre;overflow-x:auto;line-height:normal;font-family:Menlo,'DejaVu Sans Mono',consolas,'Courier New',monospace\">score:  <span style=\"color: #008080; text-decoration-color: #008080; font-weight: bold\">0.665</span>\n",
              "</pre>\n"
            ],
            "text/plain": [
              "<rich.jupyter.JupyterRenderable at 0x7f83afb69190>"
            ]
          },
          "metadata": {
            "tags": []
          }
        }
      ]
    },
    {
      "cell_type": "code",
      "metadata": {
        "colab": {
          "base_uri": "https://localhost:8080/",
          "height": 279
        },
        "id": "2DS9z6AaKzLb",
        "outputId": "15152ed5-5d7e-420a-fd91-38ae87da8cb3"
      },
      "source": [
        "mc = plot_confusion_matrix(mlp,xtest,ytest,display_labels=['dog','cat'] )\n",
        "plt.show()"
      ],
      "execution_count": 16,
      "outputs": [
        {
          "output_type": "display_data",
          "data": {
            "image/png": "[encoded data removed]",
            "text/plain": [
              "<Figure size 432x288 with 2 Axes>"
            ]
          },
          "metadata": {
            "tags": [],
            "needs_background": "light"
          }
        }
      ]
    },
    {
      "cell_type": "markdown",
      "metadata": {
        "id": "zZnKzA9ycjNi"
      },
      "source": [
        "# Exporting and importing model using pickle"
      ]
    },
    {
      "cell_type": "code",
      "metadata": {
        "id": "jwRvynT5chuO"
      },
      "source": [
        "import pickle\n",
        "\n",
        "#export\n",
        "pickle.dump(mlp,open('cats_dogs_MLP.sav','wb'))\n",
        "\n",
        "#import\n",
        "file_mlp = open('cats_dogs_MLP.sav','rb')\n",
        "mlp_2 = pickle.load(file_mlp)"
      ],
      "execution_count": 17,
      "outputs": []
    },
    {
      "cell_type": "markdown",
      "metadata": {
        "id": "O36FZJVNehc-"
      },
      "source": [
        "# Validating MLP model"
      ]
    },
    {
      "cell_type": "code",
      "metadata": {
        "colab": {
          "base_uri": "https://localhost:8080/",
          "height": 221
        },
        "id": "y5_mU73jfnei",
        "outputId": "fee5f169-8620-461d-9b37-77e6d71c3155"
      },
      "source": [
        "#search images to validate\n",
        "print(os.listdir(dir_val_dog)[:10])"
      ],
      "execution_count": 18,
      "outputs": [
        {
          "output_type": "display_data",
          "data": {
            "text/html": [
              "<pre style=\"white-space:pre;overflow-x:auto;line-height:normal;font-family:Menlo,'DejaVu Sans Mono',consolas,'Courier New',monospace\"><span style=\"font-weight: bold\">[</span>\n",
              "    <span style=\"color: #008000; text-decoration-color: #008000\">'dog.2344.jpg'</span>,\n",
              "    <span style=\"color: #008000; text-decoration-color: #008000\">'dog.2260.jpg'</span>,\n",
              "    <span style=\"color: #008000; text-decoration-color: #008000\">'dog.2139.jpg'</span>,\n",
              "    <span style=\"color: #008000; text-decoration-color: #008000\">'dog.2350.jpg'</span>,\n",
              "    <span style=\"color: #008000; text-decoration-color: #008000\">'dog.2235.jpg'</span>,\n",
              "    <span style=\"color: #008000; text-decoration-color: #008000\">'dog.2196.jpg'</span>,\n",
              "    <span style=\"color: #008000; text-decoration-color: #008000\">'dog.2030.jpg'</span>,\n",
              "    <span style=\"color: #008000; text-decoration-color: #008000\">'dog.2179.jpg'</span>,\n",
              "    <span style=\"color: #008000; text-decoration-color: #008000\">'dog.2195.jpg'</span>,\n",
              "    <span style=\"color: #008000; text-decoration-color: #008000\">'dog.2160.jpg'</span>\n",
              "<span style=\"font-weight: bold\">]</span>\n",
              "</pre>\n"
            ],
            "text/plain": [
              "<rich.jupyter.JupyterRenderable at 0x7f83af800bd0>"
            ]
          },
          "metadata": {
            "tags": []
          }
        }
      ]
    },
    {
      "cell_type": "markdown",
      "metadata": {
        "id": "CdfasJBpcbsD"
      },
      "source": [
        "Inference with trained model. Labels are:\n",
        "*   Dog: 0     \n",
        "*   Cat: 1"
      ]
    },
    {
      "cell_type": "code",
      "metadata": {
        "id": "HbqPXALRefqz",
        "colab": {
          "base_uri": "https://localhost:8080/"
        },
        "outputId": "810cb227-aaf1-4700-8de3-33fb773ede82"
      },
      "source": [
        "dir = dir_val_dog + '/dog.2164.jpg'\n",
        "fd = preprocess(dir)\n",
        "fd = np.reshape(fd,(1,fd.shape[0]))\n",
        "\n",
        "mlp_2.predict(fd)[0]\n"
      ],
      "execution_count": 28,
      "outputs": [
        {
          "output_type": "execute_result",
          "data": {
            "text/plain": [
              "0"
            ]
          },
          "metadata": {
            "tags": []
          },
          "execution_count": 28
        }
      ]
    }
  ]
}