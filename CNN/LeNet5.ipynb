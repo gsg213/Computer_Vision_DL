{
  "nbformat": 4,
  "nbformat_minor": 0,
  "metadata": {
    "colab": {
      "name": "LeNet5.ipynb",
      "provenance": [],
      "collapsed_sections": []
    },
    "kernelspec": {
      "name": "python3",
      "display_name": "Python 3"
    }
  },
  "cells": [
    {
      "cell_type": "markdown",
      "metadata": {
        "id": "yAh0N8MBEUVa"
      },
      "source": [
        "[![Open In Colab](https://colab.research.google.com/assets/colab-badge.svg)](https://colab.research.google.com/github/gsg213/Computer_Vision_DL/blob/master/CNN/LeNet5.ipynb)"
      ]
    },
    {
      "cell_type": "markdown",
      "metadata": {
        "id": "Fhr5K4lG_V0S"
      },
      "source": [
        "# LeNet5\n",
        "Building and training LeNet5 with Tensorflow"
      ]
    },
    {
      "cell_type": "code",
      "metadata": {
        "id": "mMBVjZmw990E"
      },
      "source": [
        "import numpy as np\n",
        "import matplotlib.pyplot as plt\n",
        "import tensorflow as tf\n",
        "import tensorflow.keras.layers as lk\n",
        "import tensorflow.keras.models as mk"
      ],
      "execution_count": null,
      "outputs": []
    },
    {
      "cell_type": "code",
      "metadata": {
        "id": "nnmv2A7O-nMx"
      },
      "source": [
        "mnist = tf.keras.datasets.mnist"
      ],
      "execution_count": null,
      "outputs": []
    },
    {
      "cell_type": "code",
      "metadata": {
        "id": "lfob48ra-9k3",
        "colab": {
          "base_uri": "https://localhost:8080/"
        },
        "outputId": "468931b5-d8d0-4b2e-927f-dac760af1903"
      },
      "source": [
        "#download mnist dataset\n",
        "(x_train, y_train),(x_test,y_test) = mnist.load_data()"
      ],
      "execution_count": null,
      "outputs": [
        {
          "output_type": "stream",
          "text": [
            "Downloading data from https://storage.googleapis.com/tensorflow/tf-keras-datasets/mnist.npz\n",
            "11493376/11490434 [==============================] - 0s 0us/step\n"
          ],
          "name": "stdout"
        }
      ]
    },
    {
      "cell_type": "code",
      "metadata": {
        "colab": {
          "base_uri": "https://localhost:8080/"
        },
        "id": "LogFHyc7_TkU",
        "outputId": "e8419d51-893d-496b-c4a4-daddbd452d87"
      },
      "source": [
        "print('Training images: %s, Labels size: %s' %(x_train.shape, y_train.shape))\n",
        "print('Test images: {0}, Labels size: {1}'.format(x_test.shape, y_test.shape))"
      ],
      "execution_count": null,
      "outputs": [
        {
          "output_type": "stream",
          "text": [
            "Training images: (60000, 28, 28), Labels size: (60000,)\n",
            "Test images: (10000, 28, 28), Labels size: (10000,)\n"
          ],
          "name": "stdout"
        }
      ]
    },
    {
      "cell_type": "code",
      "metadata": {
        "colab": {
          "base_uri": "https://localhost:8080/",
          "height": 112
        },
        "id": "BphIcEdfAU0l",
        "outputId": "b3e01a25-2841-4a2c-c27b-94d399e67266"
      },
      "source": [
        "for i in range(5):\n",
        "  plt.subplot(1,5,i+1)\n",
        "  plt.imshow(x_train[i],cmap='gray')\n",
        "  plt.gca().set_title('label '+str(y_train[i]))\n",
        "\n",
        "plt.subplots_adjust(hspace=0.0, wspace = 0.5)\n",
        "plt.show()"
      ],
      "execution_count": null,
      "outputs": [
        {
          "output_type": "display_data",
          "data": {
            "image/png": "[encoded data removed]",
            "text/plain": [
              "<Figure size 432x288 with 5 Axes>"
            ]
          },
          "metadata": {
            "tags": [],
            "needs_background": "light"
          }
        }
      ]
    },
    {
      "cell_type": "code",
      "metadata": {
        "colab": {
          "base_uri": "https://localhost:8080/"
        },
        "id": "drMGt3ITB1rQ",
        "outputId": "b1c331af-d53f-4f4d-ab84-edc72a775ea6"
      },
      "source": [
        "x_train = x_train.reshape((x_train.shape[0],28,28,1))\n",
        "x_test = x_test.reshape((x_test.shape[0],28,28,1))\n",
        "print('Training images: %s, Labels size: %s' %(x_train.shape, y_train.shape))\n",
        "print('Test images: {0}, Labels size: {1}'.format(x_test.shape, y_test.shape))"
      ],
      "execution_count": null,
      "outputs": [
        {
          "output_type": "stream",
          "text": [
            "Training images: (60000, 28, 28, 1), Labels size: (60000,)\n",
            "Test images: (10000, 28, 28, 1), Labels size: (10000,)\n"
          ],
          "name": "stdout"
        }
      ]
    },
    {
      "cell_type": "code",
      "metadata": {
        "id": "iv-Qh8k7C4it"
      },
      "source": [
        "#normalize, normally better results use mean and \n",
        "#(x-x.mean)/x.std()\n",
        "x_train = x_train.astype('float32')\n",
        "x_test = x_test.astype('float32')\n",
        "x_train , x_test = ((x_train-x_train.min())/(x_train.max()-x_train.min())),((x_test-x_test.min())/(x_test.max()-x_test.min()))\n"
      ],
      "execution_count": null,
      "outputs": []
    },
    {
      "cell_type": "code",
      "metadata": {
        "id": "AOn7xa8ddfKl"
      },
      "source": [
        "x_valid, x_train = x_train[:10000], x_train[10000:]\n",
        "y_valid, y_train = y_train[:10000], y_train[10000:] "
      ],
      "execution_count": null,
      "outputs": []
    },
    {
      "cell_type": "code",
      "metadata": {
        "colab": {
          "base_uri": "https://localhost:8080/"
        },
        "id": "qa5VcmsDl5Is",
        "outputId": "af16beab-5f98-43a7-8bd5-833823426655"
      },
      "source": [
        "tf.keras.backend.clear_session"
      ],
      "execution_count": null,
      "outputs": [
        {
          "output_type": "execute_result",
          "data": {
            "text/plain": [
              "<function tensorflow.python.keras.backend.clear_session>"
            ]
          },
          "metadata": {
            "tags": []
          },
          "execution_count": 16
        }
      ]
    },
    {
      "cell_type": "code",
      "metadata": {
        "colab": {
          "base_uri": "https://localhost:8080/"
        },
        "id": "k-JVBE7QFHQd",
        "outputId": "75f14be2-11d8-4b6b-8890-59d1b6f88d1b"
      },
      "source": [
        "#layers LeNet5\n",
        "\n",
        "inputs  = lk.Input(shape=(28,28,1))\n",
        "\n",
        "#padding 'same' allows to maintain same image input size\n",
        "conv1 = lk.Conv2D(6,(5,5),padding='same',activation='relu')(inputs)\n",
        "\n",
        "pool1 =  lk.MaxPool2D((2,2),(2,2))(conv1)\n",
        "\n",
        "#padding valid = not padding\n",
        "conv2 = lk.Conv2D(16,(5,5),padding='valid', activation='relu')(pool1)\n",
        "\n",
        "pool2 =  lk.MaxPool2D((2,2),(2,2))(conv2)\n",
        "\n",
        "flat = lk.Flatten()(pool2)\n",
        "\n",
        "fc1 = lk.Dense(120,activation='relu')(flat)\n",
        "\n",
        "fc2 = lk.Dense(84,activation='relu')(fc1)\n",
        "\n",
        "outputs = lk.Dense(10,activation='softmax')(fc2)\n",
        "\n",
        "#model\n",
        "model = mk.Model(inputs,outputs)\n",
        "model.summary()\n"
      ],
      "execution_count": null,
      "outputs": [
        {
          "output_type": "stream",
          "text": [
            "Model: \"model_1\"\n",
            "_________________________________________________________________\n",
            "Layer (type)                 Output Shape              Param #   \n",
            "=================================================================\n",
            "input_2 (InputLayer)         [(None, 28, 28, 1)]       0         \n",
            "_________________________________________________________________\n",
            "conv2d_2 (Conv2D)            (None, 28, 28, 6)         156       \n",
            "_________________________________________________________________\n",
            "max_pooling2d_2 (MaxPooling2 (None, 14, 14, 6)         0         \n",
            "_________________________________________________________________\n",
            "conv2d_3 (Conv2D)            (None, 10, 10, 16)        2416      \n",
            "_________________________________________________________________\n",
            "max_pooling2d_3 (MaxPooling2 (None, 5, 5, 16)          0         \n",
            "_________________________________________________________________\n",
            "flatten_1 (Flatten)          (None, 400)               0         \n",
            "_________________________________________________________________\n",
            "dense_3 (Dense)              (None, 120)               48120     \n",
            "_________________________________________________________________\n",
            "dense_4 (Dense)              (None, 84)                10164     \n",
            "_________________________________________________________________\n",
            "dense_5 (Dense)              (None, 10)                850       \n",
            "=================================================================\n",
            "Total params: 61,706\n",
            "Trainable params: 61,706\n",
            "Non-trainable params: 0\n",
            "_________________________________________________________________\n"
          ],
          "name": "stdout"
        }
      ]
    },
    {
      "cell_type": "code",
      "metadata": {
        "id": "R4cj8WlinNCq"
      },
      "source": [
        "model.compile(loss=\"sparse_categorical_crossentropy\", optimizer=\"adam\", metrics=[\"accuracy\"])"
      ],
      "execution_count": null,
      "outputs": []
    },
    {
      "cell_type": "code",
      "metadata": {
        "colab": {
          "base_uri": "https://localhost:8080/"
        },
        "id": "WsGGsQVvnNyx",
        "outputId": "428cc8c2-9ddd-4708-d4fc-050f46df37a4"
      },
      "source": [
        "history = model.fit(x_train, y_train, epochs=8, batch_size = 128,verbose = 1,validation_data=(x_valid, y_valid))"
      ],
      "execution_count": null,
      "outputs": [
        {
          "output_type": "stream",
          "text": [
            "Epoch 1/8\n",
            "391/391 [==============================] - 2s 4ms/step - loss: 0.7429 - accuracy: 0.7813 - val_loss: 0.1380 - val_accuracy: 0.9601\n",
            "Epoch 2/8\n",
            "391/391 [==============================] - 1s 4ms/step - loss: 0.1023 - accuracy: 0.9679 - val_loss: 0.0844 - val_accuracy: 0.9750\n",
            "Epoch 3/8\n",
            "391/391 [==============================] - 1s 4ms/step - loss: 0.0689 - accuracy: 0.9786 - val_loss: 0.0599 - val_accuracy: 0.9825\n",
            "Epoch 4/8\n",
            "391/391 [==============================] - 1s 4ms/step - loss: 0.0526 - accuracy: 0.9834 - val_loss: 0.0793 - val_accuracy: 0.9765\n",
            "Epoch 5/8\n",
            "391/391 [==============================] - 1s 4ms/step - loss: 0.0414 - accuracy: 0.9871 - val_loss: 0.0463 - val_accuracy: 0.9876\n",
            "Epoch 6/8\n",
            "391/391 [==============================] - 1s 4ms/step - loss: 0.0328 - accuracy: 0.9894 - val_loss: 0.0467 - val_accuracy: 0.9864\n",
            "Epoch 7/8\n",
            "391/391 [==============================] - 1s 4ms/step - loss: 0.0281 - accuracy: 0.9911 - val_loss: 0.0522 - val_accuracy: 0.9863\n",
            "Epoch 8/8\n",
            "391/391 [==============================] - 1s 4ms/step - loss: 0.0250 - accuracy: 0.9919 - val_loss: 0.0541 - val_accuracy: 0.9848\n"
          ],
          "name": "stdout"
        }
      ]
    },
    {
      "cell_type": "code",
      "metadata": {
        "colab": {
          "base_uri": "https://localhost:8080/",
          "height": 324
        },
        "id": "1X3aFe1bd9n5",
        "outputId": "8696d92b-cbc8-4285-fe8b-efb2921f7320"
      },
      "source": [
        "import pandas as pd \n",
        "import matplotlib.pyplot as plt \n",
        "pd.DataFrame(history.history).plot(figsize=(8,5)) \n",
        "plt.grid(True) \n",
        "plt.gca().set_ylim(0,1) \n",
        "plt.show()"
      ],
      "execution_count": null,
      "outputs": [
        {
          "output_type": "display_data",
          "data": {
            "image/png": "[encoded data removed]",
            "text/plain": [
              "<Figure size 576x360 with 1 Axes>"
            ]
          },
          "metadata": {
            "tags": [],
            "needs_background": "light"
          }
        }
      ]
    },
    {
      "cell_type": "code",
      "metadata": {
        "colab": {
          "base_uri": "https://localhost:8080/"
        },
        "id": "63fHMrByeBnR",
        "outputId": "f702f82f-556a-4e44-8bc1-fdb52e5be113"
      },
      "source": [
        "model.evaluate(x_test, y_test)"
      ],
      "execution_count": null,
      "outputs": [
        {
          "output_type": "stream",
          "text": [
            "313/313 [==============================] - 1s 2ms/step - loss: 0.0410 - accuracy: 0.9861\n"
          ],
          "name": "stdout"
        },
        {
          "output_type": "execute_result",
          "data": {
            "text/plain": [
              "[0.04102136194705963, 0.9861000180244446]"
            ]
          },
          "metadata": {
            "tags": []
          },
          "execution_count": 21
        }
      ]
    }
  ]
}