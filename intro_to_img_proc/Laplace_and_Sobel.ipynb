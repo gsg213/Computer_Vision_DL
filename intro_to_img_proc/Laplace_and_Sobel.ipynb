{
  "nbformat": 4,
  "nbformat_minor": 0,
  "metadata": {
    "colab": {
      "name": "Laplace_and_Sobel.ipynb",
      "provenance": [],
      "collapsed_sections": []
    },
    "kernelspec": {
      "name": "python3",
      "display_name": "Python 3"
    }
  },
  "cells": [
    {
      "cell_type": "markdown",
      "metadata": {
        "id": "CCyXnRNRUhTM"
      },
      "source": [
        "[![Open In Colab](https://colab.research.google.com/assets/colab-badge.svg)](https://colab.research.google.com/github/gsg213/Computer_Vision_DL/blob/master/intro_to_img_proc/Laplace_and_Sobel.ipynb)"
      ]
    },
    {
      "cell_type": "code",
      "metadata": {
        "id": "7t0GKL1BgfKt"
      },
      "source": [
        "import numpy as np\n",
        "import cv2\n",
        "from matplotlib import pyplot as plt\n",
        "\n",
        "#patch for imshow\n",
        "from google.colab.patches import cv2_imshow"
      ],
      "execution_count": null,
      "outputs": []
    },
    {
      "cell_type": "code",
      "metadata": {
        "colab": {
          "base_uri": "https://localhost:8080/",
          "height": 242
        },
        "id": "KKWABr5HggjL",
        "outputId": "b5f85301-d8b3-4f16-97b9-caa90b5ddcb3"
      },
      "source": [
        "img = cv2.imread(\"img/ladder.png\")\n",
        "#img = cv2.GaussianBlur(img,(3,3),0)\n",
        "img_gray = cv2.cvtColor(img,cv2.COLOR_BGR2GRAY)\n",
        "cv2_imshow(img_gray)\n"
      ],
      "execution_count": null,
      "outputs": [
        {
          "output_type": "display_data",
          "data": {
            "image/png": "[encoded data removed]",
            "text/plain": [
              "<PIL.Image.Image image mode=L size=225x225 at 0x7FFA342830B8>"
            ]
          },
          "metadata": {
            "tags": []
          }
        }
      ]
    },
    {
      "cell_type": "code",
      "metadata": {
        "colab": {
          "base_uri": "https://localhost:8080/",
          "height": 242
        },
        "id": "IWEfUYqHiI3H",
        "outputId": "820e943c-9901-445e-f0aa-98403bb22d63"
      },
      "source": [
        "kernel_laplacian = np.array(([0,-1,0],[-1,4,-1],[0,-1,0]),dtype='int')\n",
        "img_laplace = cv2.filter2D(img_gray,-1,kernel_laplacian)\n",
        "cv2_imshow(img_laplace)"
      ],
      "execution_count": null,
      "outputs": [
        {
          "output_type": "display_data",
          "data": {
            "image/png": "[encoded data removed]",
            "text/plain": [
              "<PIL.Image.Image image mode=L size=225x225 at 0x7FFA34283D68>"
            ]
          },
          "metadata": {
            "tags": []
          }
        }
      ]
    },
    {
      "cell_type": "code",
      "metadata": {
        "colab": {
          "base_uri": "https://localhost:8080/",
          "height": 242
        },
        "id": "AELtQXhVkVdC",
        "outputId": "5884ebc1-6b66-41f9-b10b-f4111fd51e75"
      },
      "source": [
        "laplace = cv2.Laplacian(img_gray,cv2.CV_64F)\n",
        "cv2_imshow(laplace)"
      ],
      "execution_count": null,
      "outputs": [
        {
          "output_type": "display_data",
          "data": {
            "image/png": "[encoded data removed]",
            "text/plain": [
              "<PIL.Image.Image image mode=L size=225x225 at 0x7FFA34283048>"
            ]
          },
          "metadata": {
            "tags": []
          }
        }
      ]
    },
    {
      "cell_type": "code",
      "metadata": {
        "colab": {
          "base_uri": "https://localhost:8080/",
          "height": 467
        },
        "id": "ZNkRZ5b8nHMd",
        "outputId": "c1fef502-cd2c-4d03-f4bc-c53d56489759"
      },
      "source": [
        "kernel_laplacian = np.array(([0,-1,0],[-1,4,-1],[0,-1,0]),dtype='int')\n",
        "img_laplace = cv2.filter2D(img_gray,-1,kernel_laplacian)\n",
        "\n",
        "kernel_laplac = np.array(([0,1,0],[1,-4,1],[0,1,0]),dtype='int')\n",
        "img_laplac = cv2.filter2D(img_gray,-1,kernel_laplac)\n",
        "\n",
        "cv2_imshow(img_laplace)\n",
        "cv2_imshow(img_laplac)"
      ],
      "execution_count": null,
      "outputs": [
        {
          "output_type": "display_data",
          "data": {
            "image/png": "[encoded data removed]",
            "text/plain": [
              "<PIL.Image.Image image mode=L size=225x225 at 0x7FFA35AFEF28>"
            ]
          },
          "metadata": {
            "tags": []
          }
        },
        {
          "output_type": "display_data",
          "data": {
            "image/png": "[encoded data removed]",
            "text/plain": [
              "<PIL.Image.Image image mode=L size=225x225 at 0x7FFA35AFE240>"
            ]
          },
          "metadata": {
            "tags": []
          }
        }
      ]
    },
    {
      "cell_type": "code",
      "metadata": {
        "colab": {
          "base_uri": "https://localhost:8080/",
          "height": 467
        },
        "id": "J9X1Ck8XlILR",
        "outputId": "6da6bdc0-9180-4527-826d-27127445e3c3"
      },
      "source": [
        "kernel_laplacian2 = np.array(([-1,-1,-1],[-1,8,-1],[-1,-1,-1]),dtype='int')\n",
        "img_laplace2 = cv2.filter2D(img_gray,-1,kernel_laplacian2)\n",
        "\n",
        "kernel_lapla = np.array(([1,1,1],[1,-8,1],[1,1,1]),dtype='int')\n",
        "img_lapla = cv2.filter2D(img_gray,-1,kernel_lapla)\n",
        "\n",
        "cv2_imshow(img_laplace2)\n",
        "cv2_imshow(img_lapla)"
      ],
      "execution_count": null,
      "outputs": [
        {
          "output_type": "display_data",
          "data": {
            "image/png": "[encoded data removed]",
            "text/plain": [
              "<PIL.Image.Image image mode=L size=225x225 at 0x7FFA35AFE518>"
            ]
          },
          "metadata": {
            "tags": []
          }
        },
        {
          "output_type": "display_data",
          "data": {
            "image/png": "[encoded data removed]",
            "text/plain": [
              "<PIL.Image.Image image mode=L size=225x225 at 0x7FFA35AFECC0>"
            ]
          },
          "metadata": {
            "tags": []
          }
        }
      ]
    },
    {
      "cell_type": "code",
      "metadata": {
        "colab": {
          "base_uri": "https://localhost:8080/",
          "height": 467
        },
        "id": "UqNFxTiYtZes",
        "outputId": "6ef5a422-7622-44c7-b700-f090c0df56c2"
      },
      "source": [
        "#sobel using numpy\n",
        "sobelx = np.array(([-1,0,1],[-2,0,2],[-1,0,1]),dtype='float')*(1/8)\n",
        "img_sobelx = cv2.filter2D(img_gray,-1,sobelx)\n",
        "\n",
        "sobely = np.array(([-1,-2,-1],[0,0,0],[1,2,1]),dtype='float')*(1/8)\n",
        "img_sobely = cv2.filter2D(img_gray,-1,sobely)\n",
        "\n",
        "cv2_imshow(img_sobelx)\n",
        "cv2_imshow(img_sobely)"
      ],
      "execution_count": null,
      "outputs": [
        {
          "output_type": "display_data",
          "data": {
            "image/png": "[encoded data removed]",
            "text/plain": [
              "<PIL.Image.Image image mode=L size=225x225 at 0x7FFA35AFEC50>"
            ]
          },
          "metadata": {
            "tags": []
          }
        },
        {
          "output_type": "display_data",
          "data": {
            "image/png": "[encoded data removed]",
            "text/plain": [
              "<PIL.Image.Image image mode=L size=225x225 at 0x7FFA35AFE5C0>"
            ]
          },
          "metadata": {
            "tags": []
          }
        }
      ]
    }
  ]
}